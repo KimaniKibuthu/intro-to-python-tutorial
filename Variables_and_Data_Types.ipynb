{
  "nbformat": 4,
  "nbformat_minor": 0,
  "metadata": {
    "colab": {
      "name": "Variables and Data Types.ipynb",
      "provenance": [],
      "collapsed_sections": [
        "mRGYaJq43l3C",
        "nAuf25ERWI3J"
      ],
      "include_colab_link": true
    },
    "kernelspec": {
      "display_name": "Python 3",
      "language": "python",
      "name": "python3"
    },
    "language_info": {
      "codemirror_mode": {
        "name": "ipython",
        "version": 3
      },
      "file_extension": ".py",
      "mimetype": "text/x-python",
      "name": "python",
      "nbconvert_exporter": "python",
      "pygments_lexer": "ipython3",
      "version": "3.8.5"
    }
  },
  "cells": [
    {
      "cell_type": "markdown",
      "metadata": {
        "id": "view-in-github",
        "colab_type": "text"
      },
      "source": [
        "<a href=\"https://colab.research.google.com/github/KimaniKibuthu/intro-to-python-tutorial/blob/main/Variables_and_Data_Types.ipynb\" target=\"_parent\"><img src=\"https://colab.research.google.com/assets/colab-badge.svg\" alt=\"Open In Colab\"/></a>"
      ]
    },
    {
      "cell_type": "markdown",
      "metadata": {
        "id": "mRGYaJq43l3C"
      },
      "source": [
        "# Variables and Data Types\n",
        "\n",
        "An introduction to **variables** and **datatypes**.\n",
        "\n",
        "Variables are containers for your data. The naming convention is:\n",
        "* It should never start with a number eg 1_egg but you can say egg_1\n",
        "* It should not have a space eg one word but you can say one_word\n",
        "* It should not have a key name eg list\n",
        "\n",
        "\n"
      ]
    },
    {
      "cell_type": "markdown",
      "metadata": {
        "id": "vlIx8kAg7gT5"
      },
      "source": [
        "## Data Types\n",
        "\n",
        "### Integers\n",
        "These are whole numbers"
      ]
    },
    {
      "cell_type": "code",
      "metadata": {
        "id": "RPxXNR-g0XJu"
      },
      "source": [
        "age = 34"
      ],
      "execution_count": null,
      "outputs": []
    },
    {
      "cell_type": "code",
      "metadata": {
        "colab": {
          "base_uri": "https://localhost:8080/"
        },
        "id": "6VgyJtmY0fYi",
        "outputId": "528bace0-cd58-4b66-d310-1bdfa626c4d4"
      },
      "source": [
        "print(age)"
      ],
      "execution_count": null,
      "outputs": [
        {
          "output_type": "stream",
          "text": [
            "34\n"
          ],
          "name": "stdout"
        }
      ]
    },
    {
      "cell_type": "code",
      "metadata": {
        "id": "mfgqZErN8m5S"
      },
      "source": [
        "age_johnny, age_mike = 32, 45"
      ],
      "execution_count": null,
      "outputs": []
    },
    {
      "cell_type": "code",
      "metadata": {
        "colab": {
          "base_uri": "https://localhost:8080/"
        },
        "id": "E_xV10c39IK8",
        "outputId": "f10b98b7-0af7-4874-ec1e-fcab9dfd3a43"
      },
      "source": [
        "print(age_johnny)\n"
      ],
      "execution_count": null,
      "outputs": [
        {
          "output_type": "stream",
          "text": [
            "32\n"
          ],
          "name": "stdout"
        }
      ]
    },
    {
      "cell_type": "code",
      "metadata": {
        "colab": {
          "base_uri": "https://localhost:8080/"
        },
        "id": "nR1F9wA-9Q98",
        "outputId": "69046b6c-7bb4-400a-fac3-36cdd5ba2e95"
      },
      "source": [
        "print(age_mike)"
      ],
      "execution_count": null,
      "outputs": [
        {
          "output_type": "stream",
          "text": [
            "45\n"
          ],
          "name": "stdout"
        }
      ]
    },
    {
      "cell_type": "markdown",
      "metadata": {
        "id": "_pbwf1-VAL59"
      },
      "source": [
        "The actions include:\n",
        "* Multiplication (*)\n",
        "* Addition (+)\n",
        "* Subtraction (-)\n",
        "* Division (/)\n",
        "* Modulo (%)\n",
        "* Absolute division (//)\n",
        "* Power (**)\n"
      ]
    },
    {
      "cell_type": "code",
      "metadata": {
        "colab": {
          "base_uri": "https://localhost:8080/"
        },
        "id": "TB624zP8AE8j",
        "outputId": "888bd4ee-78bd-415b-b194-cb3c33507c86"
      },
      "source": [
        "# multiplication\n",
        "maths = 5 * 1.3\n",
        "\n",
        "print(maths)\n"
      ],
      "execution_count": null,
      "outputs": [
        {
          "output_type": "stream",
          "text": [
            "6.5\n"
          ],
          "name": "stdout"
        }
      ]
    },
    {
      "cell_type": "code",
      "metadata": {
        "colab": {
          "base_uri": "https://localhost:8080/"
        },
        "id": "AdlQrnL5BL51",
        "outputId": "cb188b1b-388d-4840-ab6b-046c3b2ad526"
      },
      "source": [
        "# Modulo\n",
        "\n",
        "remainder = 50 % 7\n",
        "\n",
        "remainder"
      ],
      "execution_count": null,
      "outputs": [
        {
          "output_type": "execute_result",
          "data": {
            "text/plain": [
              "1"
            ]
          },
          "metadata": {
            "tags": []
          },
          "execution_count": 23
        }
      ]
    },
    {
      "cell_type": "code",
      "metadata": {
        "colab": {
          "base_uri": "https://localhost:8080/"
        },
        "id": "5w8lv9igCEgx",
        "outputId": "c1ca0136-bd44-4dbc-f432-7028bafa99ee"
      },
      "source": [
        "# Absolute \n",
        "absolut = 50 // 7\n",
        "\n",
        "absolut"
      ],
      "execution_count": null,
      "outputs": [
        {
          "output_type": "execute_result",
          "data": {
            "text/plain": [
              "7"
            ]
          },
          "metadata": {
            "tags": []
          },
          "execution_count": 25
        }
      ]
    },
    {
      "cell_type": "code",
      "metadata": {
        "colab": {
          "base_uri": "https://localhost:8080/"
        },
        "id": "NwwlnmNhCZQj",
        "outputId": "d7600490-f5e2-4256-a64f-ccae0b639e20"
      },
      "source": [
        "# Convert int to float\n",
        "new_age = float(age)\n",
        "\n",
        "print(new_age)"
      ],
      "execution_count": null,
      "outputs": [
        {
          "output_type": "stream",
          "text": [
            "34.0\n"
          ],
          "name": "stdout"
        }
      ]
    },
    {
      "cell_type": "code",
      "metadata": {
        "colab": {
          "base_uri": "https://localhost:8080/"
        },
        "id": "uywV2pZLCu8y",
        "outputId": "9be93a90-fbf8-4099-e128-1a9814569f8e"
      },
      "source": [
        "# Convert float to integer\n",
        "new_maths = int(maths)\n",
        "\n",
        "new_maths"
      ],
      "execution_count": null,
      "outputs": [
        {
          "output_type": "execute_result",
          "data": {
            "text/plain": [
              "6"
            ]
          },
          "metadata": {
            "tags": []
          },
          "execution_count": 28
        }
      ]
    },
    {
      "cell_type": "code",
      "metadata": {
        "colab": {
          "base_uri": "https://localhost:8080/"
        },
        "id": "VlLTHOxFDAjs",
        "outputId": "10d88ef5-b09d-4301-9fcd-8e52210686e3"
      },
      "source": [
        "# Round off\n",
        "rounded_maths = round(maths)\n",
        "\n",
        "rounded_maths"
      ],
      "execution_count": null,
      "outputs": [
        {
          "output_type": "execute_result",
          "data": {
            "text/plain": [
              "6"
            ]
          },
          "metadata": {
            "tags": []
          },
          "execution_count": 31
        }
      ]
    },
    {
      "cell_type": "code",
      "metadata": {
        "colab": {
          "base_uri": "https://localhost:8080/"
        },
        "id": "l2hSLrWgDflW",
        "outputId": "abe8443b-a7e1-484d-a316-95d3ef54cf3b"
      },
      "source": [
        "round(28/10)"
      ],
      "execution_count": null,
      "outputs": [
        {
          "output_type": "execute_result",
          "data": {
            "text/plain": [
              "3"
            ]
          },
          "metadata": {
            "tags": []
          },
          "execution_count": 32
        }
      ]
    },
    {
      "cell_type": "code",
      "metadata": {
        "colab": {
          "base_uri": "https://localhost:8080/",
          "height": 35
        },
        "id": "Q3W6fU2rD7VD",
        "outputId": "6458927b-e2d2-425b-e70a-d3727efb8944"
      },
      "source": [
        "string = str(new_maths)\n",
        "\n",
        "string"
      ],
      "execution_count": null,
      "outputs": [
        {
          "output_type": "execute_result",
          "data": {
            "application/vnd.google.colaboratory.intrinsic+json": {
              "type": "string"
            },
            "text/plain": [
              "'6'"
            ]
          },
          "metadata": {
            "tags": []
          },
          "execution_count": 34
        }
      ]
    },
    {
      "cell_type": "markdown",
      "metadata": {
        "id": "c-xDSZES9ZX-"
      },
      "source": [
        "### Floats\n",
        "\n",
        "Decimal points"
      ]
    },
    {
      "cell_type": "code",
      "metadata": {
        "id": "1M28z4q79Pbg"
      },
      "source": [
        "height = 1.67"
      ],
      "execution_count": null,
      "outputs": []
    },
    {
      "cell_type": "code",
      "metadata": {
        "colab": {
          "base_uri": "https://localhost:8080/"
        },
        "id": "sQF8eAze9nqc",
        "outputId": "1c47f8b0-3d21-414c-c37e-c5ff25bae9f0"
      },
      "source": [
        "print(height)"
      ],
      "execution_count": null,
      "outputs": [
        {
          "output_type": "stream",
          "text": [
            "1.67\n"
          ],
          "name": "stdout"
        }
      ]
    },
    {
      "cell_type": "markdown",
      "metadata": {
        "id": "fBF5O_st9rsy"
      },
      "source": [
        "### String"
      ]
    },
    {
      "cell_type": "code",
      "metadata": {
        "id": "m3uV7_qC9pjS"
      },
      "source": [
        "words = 'orange' "
      ],
      "execution_count": null,
      "outputs": []
    },
    {
      "cell_type": "code",
      "metadata": {
        "colab": {
          "base_uri": "https://localhost:8080/"
        },
        "id": "ywnqSRT799Si",
        "outputId": "a7eb2cf7-ee89-4fcf-fdd5-4961bab6f680"
      },
      "source": [
        "print(words)"
      ],
      "execution_count": null,
      "outputs": [
        {
          "output_type": "stream",
          "text": [
            "orange\n"
          ],
          "name": "stdout"
        }
      ]
    },
    {
      "cell_type": "code",
      "metadata": {
        "id": "zqx9o4A8-T2s"
      },
      "source": [
        "flavour = \"mint\""
      ],
      "execution_count": null,
      "outputs": []
    },
    {
      "cell_type": "code",
      "metadata": {
        "colab": {
          "base_uri": "https://localhost:8080/"
        },
        "id": "DAh90UdW-bSE",
        "outputId": "f7d5664d-6e52-4eb9-f3e0-cd56f73c8adf"
      },
      "source": [
        "type(words)"
      ],
      "execution_count": null,
      "outputs": [
        {
          "output_type": "execute_result",
          "data": {
            "text/plain": [
              "str"
            ]
          },
          "metadata": {
            "tags": []
          },
          "execution_count": 15
        }
      ]
    },
    {
      "cell_type": "code",
      "metadata": {
        "id": "IN8NXknc-98r"
      },
      "source": [
        "number = '89'"
      ],
      "execution_count": null,
      "outputs": []
    },
    {
      "cell_type": "code",
      "metadata": {
        "colab": {
          "base_uri": "https://localhost:8080/"
        },
        "id": "_r7HMmQA_DvC",
        "outputId": "c98501c6-f57b-42f7-9958-6f012ad86ca2"
      },
      "source": [
        "type(number)"
      ],
      "execution_count": null,
      "outputs": [
        {
          "output_type": "execute_result",
          "data": {
            "text/plain": [
              "str"
            ]
          },
          "metadata": {
            "tags": []
          },
          "execution_count": 17
        }
      ]
    },
    {
      "cell_type": "markdown",
      "metadata": {
        "id": "pQXifGPyEYlk"
      },
      "source": [
        "The functions for strings:\n"
      ]
    },
    {
      "cell_type": "code",
      "metadata": {
        "colab": {
          "base_uri": "https://localhost:8080/",
          "height": 35
        },
        "id": "RrgnZpXcEX_8",
        "outputId": "65678dd7-c20e-4b59-f3e8-777544c2140c"
      },
      "source": [
        "# Capitalize \n",
        "flavour.capitalize()\n",
        "\n"
      ],
      "execution_count": null,
      "outputs": [
        {
          "output_type": "execute_result",
          "data": {
            "application/vnd.google.colaboratory.intrinsic+json": {
              "type": "string"
            },
            "text/plain": [
              "'Mint'"
            ]
          },
          "metadata": {
            "tags": []
          },
          "execution_count": 35
        }
      ]
    },
    {
      "cell_type": "code",
      "metadata": {
        "colab": {
          "base_uri": "https://localhost:8080/",
          "height": 35
        },
        "id": "UYHFAsy0Fu7B",
        "outputId": "498c23cc-a6c4-4593-d5b4-2ffd36f9db99"
      },
      "source": [
        "# Uppercase\n",
        "flavour.upper()"
      ],
      "execution_count": null,
      "outputs": [
        {
          "output_type": "execute_result",
          "data": {
            "application/vnd.google.colaboratory.intrinsic+json": {
              "type": "string"
            },
            "text/plain": [
              "'MINT'"
            ]
          },
          "metadata": {
            "tags": []
          },
          "execution_count": 36
        }
      ]
    },
    {
      "cell_type": "code",
      "metadata": {
        "colab": {
          "base_uri": "https://localhost:8080/",
          "height": 35
        },
        "id": "aPXZq6VTF7Xr",
        "outputId": "087c0ab9-0050-4c9a-c3ef-9b72b4560f4f"
      },
      "source": [
        "# Lowercase\n",
        "flavour.lower()"
      ],
      "execution_count": null,
      "outputs": [
        {
          "output_type": "execute_result",
          "data": {
            "application/vnd.google.colaboratory.intrinsic+json": {
              "type": "string"
            },
            "text/plain": [
              "'mint'"
            ]
          },
          "metadata": {
            "tags": []
          },
          "execution_count": 37
        }
      ]
    },
    {
      "cell_type": "code",
      "metadata": {
        "id": "dZ9a6CMEGBEO"
      },
      "source": [
        "# Split\n",
        "\n",
        "flavours = 'orange_mint'\n",
        "\n"
      ],
      "execution_count": null,
      "outputs": []
    },
    {
      "cell_type": "code",
      "metadata": {
        "colab": {
          "base_uri": "https://localhost:8080/"
        },
        "id": "0A9CWAa4GR0D",
        "outputId": "099edded-d1c4-44e6-c3ff-3cc24e5ae28f"
      },
      "source": [
        "flavours.split('_')"
      ],
      "execution_count": null,
      "outputs": [
        {
          "output_type": "execute_result",
          "data": {
            "text/plain": [
              "['orange', 'mint']"
            ]
          },
          "metadata": {
            "tags": []
          },
          "execution_count": 39
        }
      ]
    },
    {
      "cell_type": "code",
      "metadata": {
        "id": "6lMUb3dJHHUi"
      },
      "source": [
        "# Format\n",
        "\n",
        "store_count = 'The number of oranges are {}'.format(30)\n"
      ],
      "execution_count": null,
      "outputs": []
    },
    {
      "cell_type": "code",
      "metadata": {
        "colab": {
          "base_uri": "https://localhost:8080/",
          "height": 35
        },
        "id": "dkZy-IVxHvP3",
        "outputId": "dc54d9d9-1f73-4b83-e7c7-b52bb54bee7a"
      },
      "source": [
        "store_count"
      ],
      "execution_count": null,
      "outputs": [
        {
          "output_type": "execute_result",
          "data": {
            "application/vnd.google.colaboratory.intrinsic+json": {
              "type": "string"
            },
            "text/plain": [
              "'The number of oranges are 30'"
            ]
          },
          "metadata": {
            "tags": []
          },
          "execution_count": 41
        }
      ]
    },
    {
      "cell_type": "code",
      "metadata": {
        "id": "qs5WGPMZIFpv"
      },
      "source": [
        "mall_count = 'The number of parents is {}, whime the number of children is {}'.format(12, 36)"
      ],
      "execution_count": null,
      "outputs": []
    },
    {
      "cell_type": "code",
      "metadata": {
        "colab": {
          "base_uri": "https://localhost:8080/",
          "height": 35
        },
        "id": "fx_pFweWIcpt",
        "outputId": "3101c874-5611-40e2-bf0e-1b6518865fe2"
      },
      "source": [
        "mall_count"
      ],
      "execution_count": null,
      "outputs": [
        {
          "output_type": "execute_result",
          "data": {
            "application/vnd.google.colaboratory.intrinsic+json": {
              "type": "string"
            },
            "text/plain": [
              "'The number of parents is 12, whime the number of children is 36'"
            ]
          },
          "metadata": {
            "tags": []
          },
          "execution_count": 43
        }
      ]
    },
    {
      "cell_type": "code",
      "metadata": {
        "id": "bV6BnYw7IiQC"
      },
      "source": [
        "mall_count = f'The number of parents is {12}, whime the number of children is {36}'"
      ],
      "execution_count": null,
      "outputs": []
    },
    {
      "cell_type": "code",
      "metadata": {
        "colab": {
          "base_uri": "https://localhost:8080/"
        },
        "id": "A3VYPQ9hIqsF",
        "outputId": "3ac89552-d830-43d4-93d5-9fbe94dad9f2"
      },
      "source": [
        "print(mall_count)"
      ],
      "execution_count": null,
      "outputs": [
        {
          "output_type": "stream",
          "text": [
            "The number of parents is 12, whime the number of children is 36\n"
          ],
          "name": "stdout"
        }
      ]
    },
    {
      "cell_type": "markdown",
      "metadata": {
        "id": "vQ138P1AIFJB"
      },
      "source": [
        ""
      ]
    },
    {
      "cell_type": "markdown",
      "metadata": {
        "id": "eqbSs8n-_SxE"
      },
      "source": [
        "### Boolean"
      ]
    },
    {
      "cell_type": "code",
      "metadata": {
        "id": "CuRXcwfj_GQH"
      },
      "source": [
        "is_true = True"
      ],
      "execution_count": null,
      "outputs": []
    },
    {
      "cell_type": "code",
      "metadata": {
        "id": "_Kvv6BHT_X3b"
      },
      "source": [
        "is_false = False"
      ],
      "execution_count": null,
      "outputs": []
    },
    {
      "cell_type": "code",
      "metadata": {
        "id": "Jy7t-3eI_aG0"
      },
      "source": [
        ""
      ],
      "execution_count": null,
      "outputs": []
    },
    {
      "cell_type": "markdown",
      "metadata": {
        "id": "S_fzAd6myiR5"
      },
      "source": [
        "## Assignment\n",
        "\n",
        "### Numbers\n",
        "\n",
        "1. Write an equation that uses multiplication, division, an exponent, addition, and subtraction that is equal to 100.25"
      ]
    },
    {
      "cell_type": "code",
      "metadata": {
        "id": "xaM8YO8G0BCP"
      },
      "source": [
        "# Code here\n"
      ],
      "execution_count": null,
      "outputs": []
    },
    {
      "cell_type": "markdown",
      "metadata": {
        "id": "kbN4Q8CC0F70"
      },
      "source": [
        "3. Save the values below in variables namely: x, y and z :\n",
        "    * 4 * (6 + 5)\n",
        "    * 4 * 6 + 5\n",
        "    * 4 + 6 * 5\n",
        "\n",
        "    a. What is the remainder of x/y\n",
        "    \n",
        "\n",
        "What is the value of the expression 4 * 6 + 5 \n",
        "\n",
        "What is the value of the expression 4 + 6 * 5 "
      ]
    },
    {
      "cell_type": "code",
      "metadata": {
        "id": "x_5src4o1U0m"
      },
      "source": [
        "# Code here. Feel free to add more cells if you need to\n",
        "\n",
        "x = 4*(6+5)"
      ],
      "execution_count": null,
      "outputs": []
    },
    {
      "cell_type": "code",
      "metadata": {
        "id": "KuZQRFsl1arK",
        "outputId": "32d7bd44-383b-4029-ed5d-0082b722780a"
      },
      "source": [
        "print(x)"
      ],
      "execution_count": null,
      "outputs": [
        {
          "output_type": "stream",
          "text": [
            "44\n"
          ],
          "name": "stdout"
        }
      ]
    },
    {
      "cell_type": "code",
      "metadata": {
        "id": "WosZgQc41ae6"
      },
      "source": [
        "y = 4*6+5"
      ],
      "execution_count": null,
      "outputs": []
    },
    {
      "cell_type": "code",
      "metadata": {
        "id": "Pw4u9kam1aXK",
        "outputId": "b0ff268f-0951-47f0-c607-b7ed95e3c40d"
      },
      "source": [
        "print(y)"
      ],
      "execution_count": null,
      "outputs": [
        {
          "output_type": "stream",
          "text": [
            "29\n"
          ],
          "name": "stdout"
        }
      ]
    },
    {
      "cell_type": "code",
      "metadata": {
        "id": "vgK_LpBY1ZJg"
      },
      "source": [
        "z = 4 + 6*5"
      ],
      "execution_count": null,
      "outputs": []
    },
    {
      "cell_type": "code",
      "metadata": {
        "id": "y3Otc-wUUaUL",
        "outputId": "ff9ee4c8-8926-4cee-bad4-0e4f21dd4486"
      },
      "source": [
        "print(z)"
      ],
      "execution_count": null,
      "outputs": [
        {
          "output_type": "stream",
          "text": [
            "34\n"
          ],
          "name": "stdout"
        }
      ]
    },
    {
      "cell_type": "code",
      "metadata": {
        "id": "PYqDLTXGUaUM"
      },
      "source": [
        "a = x/y ## Use modulo a = x%y"
      ],
      "execution_count": null,
      "outputs": []
    },
    {
      "cell_type": "code",
      "metadata": {
        "id": "sbN_cjaLUaUM",
        "outputId": "3861a33c-ac8e-4e00-cb80-e4fcc0d1343d"
      },
      "source": [
        "print(a)"
      ],
      "execution_count": null,
      "outputs": [
        {
          "output_type": "stream",
          "text": [
            "1.5172413793103448\n"
          ],
          "name": "stdout"
        }
      ]
    },
    {
      "cell_type": "code",
      "metadata": {
        "id": "iJ8G3IBjUaUM"
      },
      "source": [
        "b = y"
      ],
      "execution_count": null,
      "outputs": []
    },
    {
      "cell_type": "code",
      "metadata": {
        "id": "JQAGFqXRUaUN",
        "outputId": "84857f1b-bce6-4afa-cb20-ccd570d05be7"
      },
      "source": [
        "print(b)"
      ],
      "execution_count": null,
      "outputs": [
        {
          "output_type": "stream",
          "text": [
            "29\n"
          ],
          "name": "stdout"
        }
      ]
    },
    {
      "cell_type": "code",
      "metadata": {
        "id": "HmLF5PG8UaUN"
      },
      "source": [
        "c = z"
      ],
      "execution_count": null,
      "outputs": []
    },
    {
      "cell_type": "code",
      "metadata": {
        "id": "MgBNUTx6UaUN",
        "outputId": "96fe7cec-5f43-4103-9ec6-db9d0b3bae74"
      },
      "source": [
        "print(c)"
      ],
      "execution_count": null,
      "outputs": [
        {
          "output_type": "stream",
          "text": [
            "34\n"
          ],
          "name": "stdout"
        }
      ]
    },
    {
      "cell_type": "markdown",
      "metadata": {
        "id": "WTOQlwh_1UFG"
      },
      "source": [
        "### Strings\n",
        "\n",
        "1.Read more on string methods on : https://www.w3schools.com/python/python_ref_string.asp\n",
        "\n",
        "\n",
        "2.Practice them below on the string: \n",
        "\n",
        "```\n",
        "paradox = 'deafening silence'\n",
        "```\n",
        "\n"
      ]
    },
    {
      "cell_type": "code",
      "metadata": {
        "id": "dKbNjntD3BxJ"
      },
      "source": [
        "# Code here\n",
        "\n",
        "paradox = 'deafening silence'"
      ],
      "execution_count": null,
      "outputs": []
    },
    {
      "cell_type": "code",
      "metadata": {
        "id": "1cv3Ej8PUaUP"
      },
      "source": [
        "paradox = 'deafening silence' # Duplication"
      ],
      "execution_count": 2,
      "outputs": []
    },
    {
      "cell_type": "code",
      "metadata": {
        "id": "L-HVHCPuUaUP",
        "outputId": "8f7c9629-f34b-4255-c4e8-867d53d2635e"
      },
      "source": [
        "paradox"
      ],
      "execution_count": null,
      "outputs": [
        {
          "output_type": "execute_result",
          "data": {
            "text/plain": [
              "'deafening silence'"
            ]
          },
          "metadata": {
            "tags": []
          },
          "execution_count": 61
        }
      ]
    },
    {
      "cell_type": "code",
      "metadata": {
        "id": "-jmGjOsJUaUQ",
        "outputId": "f84babe7-8fbb-4ddd-9e10-be9f15510eba"
      },
      "source": [
        "paradox.upper()"
      ],
      "execution_count": null,
      "outputs": [
        {
          "output_type": "execute_result",
          "data": {
            "text/plain": [
              "'DEAFENING SILENCE'"
            ]
          },
          "metadata": {
            "tags": []
          },
          "execution_count": 65
        }
      ]
    },
    {
      "cell_type": "code",
      "metadata": {
        "id": "Pqukcg3zUaUQ",
        "outputId": "4d1aa6bc-c630-4868-a8f3-f999c205535a"
      },
      "source": [
        "paradox.isdigit()"
      ],
      "execution_count": null,
      "outputs": [
        {
          "output_type": "execute_result",
          "data": {
            "text/plain": [
              "False"
            ]
          },
          "metadata": {
            "tags": []
          },
          "execution_count": 68
        }
      ]
    },
    {
      "cell_type": "code",
      "metadata": {
        "colab": {
          "base_uri": "https://localhost:8080/",
          "height": 35
        },
        "id": "oUK8yPybUaUQ",
        "outputId": "f51ced21-575a-4c3a-890b-761ef13f1266"
      },
      "source": [
        "paradox.lstrip() #lstrip"
      ],
      "execution_count": 3,
      "outputs": [
        {
          "output_type": "execute_result",
          "data": {
            "application/vnd.google.colaboratory.intrinsic+json": {
              "type": "string"
            },
            "text/plain": [
              "'deafening silence'"
            ]
          },
          "metadata": {
            "tags": []
          },
          "execution_count": 3
        }
      ]
    },
    {
      "cell_type": "markdown",
      "metadata": {
        "id": "nAuf25ERWI3J"
      },
      "source": [
        "### Comments\n",
        "Would have loved to see the use of Capitalize, title and split"
      ]
    },
    {
      "cell_type": "code",
      "metadata": {
        "id": "_AWGE-fXWIdi"
      },
      "source": [
        ""
      ],
      "execution_count": null,
      "outputs": []
    },
    {
      "cell_type": "markdown",
      "metadata": {
        "id": "q0JP7dAL3HYU"
      },
      "source": [
        "## Additional Resources\n",
        "\n",
        "Play around with code at: https://www.hackerrank.com/domains/python"
      ]
    },
    {
      "cell_type": "code",
      "metadata": {
        "id": "KDuWtZ9YXi7v"
      },
      "source": [
        ""
      ],
      "execution_count": null,
      "outputs": []
    }
  ]
}