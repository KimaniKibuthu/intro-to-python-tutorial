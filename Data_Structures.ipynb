{
  "nbformat": 4,
  "nbformat_minor": 0,
  "metadata": {
    "colab": {
      "name": "Data Structures.ipynb",
      "provenance": [],
      "collapsed_sections": [],
      "authorship_tag": "ABX9TyNvQ1SXpwnSBcX4VxPcEwEr",
      "include_colab_link": true
    },
    "kernelspec": {
      "name": "python3",
      "display_name": "Python 3"
    },
    "language_info": {
      "name": "python"
    }
  },
  "cells": [
    {
      "cell_type": "markdown",
      "metadata": {
        "id": "view-in-github",
        "colab_type": "text"
      },
      "source": [
        "<a href=\"https://colab.research.google.com/github/KimaniKibuthu/intro-to-python-tutorial/blob/main/Data_Structures.ipynb\" target=\"_parent\"><img src=\"https://colab.research.google.com/assets/colab-badge.svg\" alt=\"Open In Colab\"/></a>"
      ]
    },
    {
      "cell_type": "markdown",
      "metadata": {
        "id": "ptGTbotXFb8O"
      },
      "source": [
        "# Data Structures\n",
        "These include lists, tuples, sets and dictionaries.\n",
        "\n",
        "## Lists\n",
        "These are mutable ordered sequence that holds a variety of items"
      ]
    },
    {
      "cell_type": "code",
      "metadata": {
        "id": "KcKehvd8EsrJ"
      },
      "source": [
        "# Example 1\n",
        "mylist = ['legs', 1.56, 34, True]"
      ],
      "execution_count": 1,
      "outputs": []
    },
    {
      "cell_type": "code",
      "metadata": {
        "colab": {
          "base_uri": "https://localhost:8080/"
        },
        "id": "yJDt3oYEGXZZ",
        "outputId": "c5cb1c61-8fa4-4b10-fed7-21f9116f2041"
      },
      "source": [
        "# Check type\n",
        "type(mylist)"
      ],
      "execution_count": 2,
      "outputs": [
        {
          "output_type": "execute_result",
          "data": {
            "text/plain": [
              "list"
            ]
          },
          "metadata": {
            "tags": []
          },
          "execution_count": 2
        }
      ]
    },
    {
      "cell_type": "code",
      "metadata": {
        "colab": {
          "base_uri": "https://localhost:8080/",
          "height": 35
        },
        "id": "-X2lBvAoGdqU",
        "outputId": "6c0b09b7-2aaf-4f1c-9bde-b613a7355cf0"
      },
      "source": [
        "# Indexing\n",
        "mylist[0]"
      ],
      "execution_count": 3,
      "outputs": [
        {
          "output_type": "execute_result",
          "data": {
            "application/vnd.google.colaboratory.intrinsic+json": {
              "type": "string"
            },
            "text/plain": [
              "'legs'"
            ]
          },
          "metadata": {
            "tags": []
          },
          "execution_count": 3
        }
      ]
    },
    {
      "cell_type": "code",
      "metadata": {
        "colab": {
          "base_uri": "https://localhost:8080/"
        },
        "id": "R7HWZQOWGt58",
        "outputId": "7f684d04-6128-4e76-c584-b5424c393d7a"
      },
      "source": [
        "mylist[3]"
      ],
      "execution_count": 4,
      "outputs": [
        {
          "output_type": "execute_result",
          "data": {
            "text/plain": [
              "True"
            ]
          },
          "metadata": {
            "tags": []
          },
          "execution_count": 4
        }
      ]
    },
    {
      "cell_type": "code",
      "metadata": {
        "colab": {
          "base_uri": "https://localhost:8080/"
        },
        "id": "q2oQT6zsG6rU",
        "outputId": "971e4cb9-e842-4535-ff16-97bb8447c77b"
      },
      "source": [
        "mylist[-1]"
      ],
      "execution_count": 5,
      "outputs": [
        {
          "output_type": "execute_result",
          "data": {
            "text/plain": [
              "True"
            ]
          },
          "metadata": {
            "tags": []
          },
          "execution_count": 5
        }
      ]
    },
    {
      "cell_type": "code",
      "metadata": {
        "colab": {
          "base_uri": "https://localhost:8080/"
        },
        "id": "sCW_pKIiG9R3",
        "outputId": "e9f790fe-1062-4bec-eb4f-5e084869ae92"
      },
      "source": [
        "# Selecting the first two\n",
        "mylist[1:3]"
      ],
      "execution_count": 6,
      "outputs": [
        {
          "output_type": "execute_result",
          "data": {
            "text/plain": [
              "[1.56, 34]"
            ]
          },
          "metadata": {
            "tags": []
          },
          "execution_count": 6
        }
      ]
    },
    {
      "cell_type": "code",
      "metadata": {
        "colab": {
          "base_uri": "https://localhost:8080/"
        },
        "id": "IVTREJoyHc_G",
        "outputId": "076566ae-2b86-40d5-c872-238d7ea96787"
      },
      "source": [
        "mylist[:3]"
      ],
      "execution_count": 7,
      "outputs": [
        {
          "output_type": "execute_result",
          "data": {
            "text/plain": [
              "['legs', 1.56, 34]"
            ]
          },
          "metadata": {
            "tags": []
          },
          "execution_count": 7
        }
      ]
    },
    {
      "cell_type": "code",
      "metadata": {
        "colab": {
          "base_uri": "https://localhost:8080/"
        },
        "id": "jjgCooW_HlgQ",
        "outputId": "0f818adc-99e4-4ffd-ac0d-0a94b8212516"
      },
      "source": [
        "mylist[1:]"
      ],
      "execution_count": 8,
      "outputs": [
        {
          "output_type": "execute_result",
          "data": {
            "text/plain": [
              "[1.56, 34, True]"
            ]
          },
          "metadata": {
            "tags": []
          },
          "execution_count": 8
        }
      ]
    },
    {
      "cell_type": "code",
      "metadata": {
        "colab": {
          "base_uri": "https://localhost:8080/"
        },
        "id": "mreCZ9ImHsFS",
        "outputId": "70579e74-337d-4064-ad2c-28de3c36cbf8"
      },
      "source": [
        "mylist[:-1]"
      ],
      "execution_count": 10,
      "outputs": [
        {
          "output_type": "execute_result",
          "data": {
            "text/plain": [
              "['legs', 1.56, 34]"
            ]
          },
          "metadata": {
            "tags": []
          },
          "execution_count": 10
        }
      ]
    },
    {
      "cell_type": "code",
      "metadata": {
        "id": "EIOtvaWfH9S0"
      },
      "source": [
        "# Changing a value\n",
        "mylist[0] = 'hands'"
      ],
      "execution_count": 12,
      "outputs": []
    },
    {
      "cell_type": "code",
      "metadata": {
        "colab": {
          "base_uri": "https://localhost:8080/"
        },
        "id": "u1DjVVlXIP1_",
        "outputId": "12dbab12-382e-4ff6-c377-34bcc493b913"
      },
      "source": [
        "mylist"
      ],
      "execution_count": 13,
      "outputs": [
        {
          "output_type": "execute_result",
          "data": {
            "text/plain": [
              "['hands', 1.56, 34, True]"
            ]
          },
          "metadata": {
            "tags": []
          },
          "execution_count": 13
        }
      ]
    },
    {
      "cell_type": "markdown",
      "metadata": {
        "id": "TP4HekKqIcjC"
      },
      "source": [
        "### List functions"
      ]
    },
    {
      "cell_type": "code",
      "metadata": {
        "id": "tYLQlTeGIWLE"
      },
      "source": [
        "numbers = [1,2,3,4,5]\n",
        "cars = ['bmw', 'audi', 'fiat', 'jaguar']"
      ],
      "execution_count": 14,
      "outputs": []
    },
    {
      "cell_type": "code",
      "metadata": {
        "colab": {
          "base_uri": "https://localhost:8080/"
        },
        "id": "8_vWbadZIwr0",
        "outputId": "d0bbda6d-c871-435c-ddc0-76b0d7daa4f2"
      },
      "source": [
        "# Length of a list\n",
        "len(numbers)"
      ],
      "execution_count": 15,
      "outputs": [
        {
          "output_type": "execute_result",
          "data": {
            "text/plain": [
              "5"
            ]
          },
          "metadata": {
            "tags": []
          },
          "execution_count": 15
        }
      ]
    },
    {
      "cell_type": "code",
      "metadata": {
        "colab": {
          "base_uri": "https://localhost:8080/"
        },
        "id": "voQmBVyEI7eI",
        "outputId": "304b9285-d4b7-473f-ea9f-16ae1d52355b"
      },
      "source": [
        "len(cars)"
      ],
      "execution_count": 16,
      "outputs": [
        {
          "output_type": "execute_result",
          "data": {
            "text/plain": [
              "4"
            ]
          },
          "metadata": {
            "tags": []
          },
          "execution_count": 16
        }
      ]
    },
    {
      "cell_type": "code",
      "metadata": {
        "colab": {
          "base_uri": "https://localhost:8080/"
        },
        "id": "LZnKnBLLI_Sj",
        "outputId": "a96b4365-ff53-4063-c211-89bb008fe2a4"
      },
      "source": [
        "# Sum\n",
        "sum(numbers)"
      ],
      "execution_count": 17,
      "outputs": [
        {
          "output_type": "execute_result",
          "data": {
            "text/plain": [
              "15"
            ]
          },
          "metadata": {
            "tags": []
          },
          "execution_count": 17
        }
      ]
    },
    {
      "cell_type": "code",
      "metadata": {
        "colab": {
          "base_uri": "https://localhost:8080/"
        },
        "id": "oEK6fYf2JHOl",
        "outputId": "f2bb305d-deb9-4a34-8224-3e7805682d90"
      },
      "source": [
        "# Min and max\n",
        "print(min(numbers))\n",
        "print(max(numbers))"
      ],
      "execution_count": 18,
      "outputs": [
        {
          "output_type": "stream",
          "text": [
            "1\n",
            "5\n"
          ],
          "name": "stdout"
        }
      ]
    },
    {
      "cell_type": "code",
      "metadata": {
        "colab": {
          "base_uri": "https://localhost:8080/"
        },
        "id": "G2DEiKbnJQ4U",
        "outputId": "43366438-11aa-44be-961a-a439ce25010b"
      },
      "source": [
        "print(min(cars))\n",
        "print(max(cars))"
      ],
      "execution_count": 19,
      "outputs": [
        {
          "output_type": "stream",
          "text": [
            "audi\n",
            "jaguar\n"
          ],
          "name": "stdout"
        }
      ]
    },
    {
      "cell_type": "code",
      "metadata": {
        "id": "_iYBlAzcJcgN"
      },
      "source": [
        "## List methods\n",
        "\n",
        "# Add a number to numbers and car to cars\n",
        "\n",
        "# Adding at the end\n",
        "numbers.append(6)\n",
        "cars.append('lamborghini')\n",
        "\n",
        "# add at a certain index\n",
        "numbers.insert(0, 0)\n",
        "cars.insert(3, 'kia')\n"
      ],
      "execution_count": 23,
      "outputs": []
    },
    {
      "cell_type": "code",
      "metadata": {
        "colab": {
          "base_uri": "https://localhost:8080/"
        },
        "id": "o0FW9R0IKh_A",
        "outputId": "a428919d-f353-4c6c-8fa3-e6f96c7cd4c7"
      },
      "source": [
        "cars"
      ],
      "execution_count": 24,
      "outputs": [
        {
          "output_type": "execute_result",
          "data": {
            "text/plain": [
              "['bmw', 'audi', 'fiat', 'kia', 'kia', 'jaguar', 'lamborghini', 'lamborghini']"
            ]
          },
          "metadata": {
            "tags": []
          },
          "execution_count": 24
        }
      ]
    },
    {
      "cell_type": "code",
      "metadata": {
        "colab": {
          "base_uri": "https://localhost:8080/"
        },
        "id": "oQjp4LK3Kjbh",
        "outputId": "24913fa4-ab6b-4d1c-f8e3-6598bc8994e2"
      },
      "source": [
        "numbers"
      ],
      "execution_count": 25,
      "outputs": [
        {
          "output_type": "execute_result",
          "data": {
            "text/plain": [
              "[0, 0, 1, 2, 3, 4, 5, 6, 6]"
            ]
          },
          "metadata": {
            "tags": []
          },
          "execution_count": 25
        }
      ]
    },
    {
      "cell_type": "code",
      "metadata": {
        "id": "RA4jg13AKnrf"
      },
      "source": [
        "# Remove items from list\n",
        "\n",
        "# Remove at a certain index\n",
        "numbers.pop(0)\n",
        "cars.pop(3)\n",
        "\n",
        "# Remove an item by name'\n",
        "numbers.remove(6)\n",
        "cars.remove('lamborghini')"
      ],
      "execution_count": 26,
      "outputs": []
    },
    {
      "cell_type": "code",
      "metadata": {
        "colab": {
          "base_uri": "https://localhost:8080/"
        },
        "id": "hRaPrTLdLTZ1",
        "outputId": "db959c7f-2170-4b4b-d65a-4dd882ba574e"
      },
      "source": [
        "numbers"
      ],
      "execution_count": 27,
      "outputs": [
        {
          "output_type": "execute_result",
          "data": {
            "text/plain": [
              "[0, 1, 2, 3, 4, 5, 6]"
            ]
          },
          "metadata": {
            "tags": []
          },
          "execution_count": 27
        }
      ]
    },
    {
      "cell_type": "code",
      "metadata": {
        "colab": {
          "base_uri": "https://localhost:8080/"
        },
        "id": "KV28nhxgLUjs",
        "outputId": "89ff37ec-ce89-4aad-a432-53a88bf353cd"
      },
      "source": [
        "cars"
      ],
      "execution_count": 28,
      "outputs": [
        {
          "output_type": "execute_result",
          "data": {
            "text/plain": [
              "['bmw', 'audi', 'fiat', 'kia', 'jaguar', 'lamborghini']"
            ]
          },
          "metadata": {
            "tags": []
          },
          "execution_count": 28
        }
      ]
    },
    {
      "cell_type": "code",
      "metadata": {
        "id": "8ED0WpqbLVNH"
      },
      "source": [
        "# Soort list\n",
        "numbers.sort()"
      ],
      "execution_count": 29,
      "outputs": []
    },
    {
      "cell_type": "code",
      "metadata": {
        "colab": {
          "base_uri": "https://localhost:8080/"
        },
        "id": "6bZ6xWtbLzyE",
        "outputId": "54d71c5d-79f4-4bc0-ffc2-b41b577bc622"
      },
      "source": [
        "numbers"
      ],
      "execution_count": 30,
      "outputs": [
        {
          "output_type": "execute_result",
          "data": {
            "text/plain": [
              "[0, 1, 2, 3, 4, 5, 6]"
            ]
          },
          "metadata": {
            "tags": []
          },
          "execution_count": 30
        }
      ]
    },
    {
      "cell_type": "code",
      "metadata": {
        "id": "bFDOqQqNL03D"
      },
      "source": [
        "numbers.sort(reverse=True)"
      ],
      "execution_count": 31,
      "outputs": []
    },
    {
      "cell_type": "code",
      "metadata": {
        "colab": {
          "base_uri": "https://localhost:8080/"
        },
        "id": "Ov1wjIIgL9bw",
        "outputId": "582c7ca3-a119-4358-da55-4db2b8a092d3"
      },
      "source": [
        "numbers"
      ],
      "execution_count": 32,
      "outputs": [
        {
          "output_type": "execute_result",
          "data": {
            "text/plain": [
              "[6, 5, 4, 3, 2, 1, 0]"
            ]
          },
          "metadata": {
            "tags": []
          },
          "execution_count": 32
        }
      ]
    },
    {
      "cell_type": "code",
      "metadata": {
        "id": "fOhKDHqvL-p-"
      },
      "source": [
        "cars.sort()"
      ],
      "execution_count": 33,
      "outputs": []
    },
    {
      "cell_type": "code",
      "metadata": {
        "colab": {
          "base_uri": "https://localhost:8080/"
        },
        "id": "-4d2HNooMGbg",
        "outputId": "016f8826-fe8f-4277-a368-e95e716aeed7"
      },
      "source": [
        "cars"
      ],
      "execution_count": 34,
      "outputs": [
        {
          "output_type": "execute_result",
          "data": {
            "text/plain": [
              "['audi', 'bmw', 'fiat', 'jaguar', 'kia', 'lamborghini']"
            ]
          },
          "metadata": {
            "tags": []
          },
          "execution_count": 34
        }
      ]
    },
    {
      "cell_type": "code",
      "metadata": {
        "id": "WjcN4MudMHTj"
      },
      "source": [
        "# List in list\n",
        "\n",
        "list_in_list = [1, 'cow', ['ten', 10, 15.7]]"
      ],
      "execution_count": 35,
      "outputs": []
    },
    {
      "cell_type": "code",
      "metadata": {
        "colab": {
          "base_uri": "https://localhost:8080/"
        },
        "id": "jREokznlMejr",
        "outputId": "04ad5a79-074a-452f-810f-e6bc83cd624e"
      },
      "source": [
        "list_in_list[2][1]"
      ],
      "execution_count": 36,
      "outputs": [
        {
          "output_type": "execute_result",
          "data": {
            "text/plain": [
              "10"
            ]
          },
          "metadata": {
            "tags": []
          },
          "execution_count": 36
        }
      ]
    },
    {
      "cell_type": "code",
      "metadata": {
        "colab": {
          "base_uri": "https://localhost:8080/",
          "height": 35
        },
        "id": "ObUXJFPbM1kM",
        "outputId": "17e1a3b4-bec2-4ad2-8e29-94378bb59a20"
      },
      "source": [
        "list_in_list[2][0].capitalize()"
      ],
      "execution_count": 37,
      "outputs": [
        {
          "output_type": "execute_result",
          "data": {
            "application/vnd.google.colaboratory.intrinsic+json": {
              "type": "string"
            },
            "text/plain": [
              "'Ten'"
            ]
          },
          "metadata": {
            "tags": []
          },
          "execution_count": 37
        }
      ]
    },
    {
      "cell_type": "markdown",
      "metadata": {
        "id": "qkgwYR2pNQMv"
      },
      "source": [
        "## Tuples\n",
        "Immutable ordered sequence of elements"
      ]
    },
    {
      "cell_type": "code",
      "metadata": {
        "id": "_8YNnAIPM_XH"
      },
      "source": [
        "# Example\n",
        "shape = ('length', 'width', 'height')"
      ],
      "execution_count": 38,
      "outputs": []
    },
    {
      "cell_type": "code",
      "metadata": {
        "colab": {
          "base_uri": "https://localhost:8080/"
        },
        "id": "3x-BAImDNpIn",
        "outputId": "dbbed5bf-2005-4882-ff43-a5f23e286f34"
      },
      "source": [
        "type(shape)"
      ],
      "execution_count": 39,
      "outputs": [
        {
          "output_type": "execute_result",
          "data": {
            "text/plain": [
              "tuple"
            ]
          },
          "metadata": {
            "tags": []
          },
          "execution_count": 39
        }
      ]
    },
    {
      "cell_type": "code",
      "metadata": {
        "colab": {
          "base_uri": "https://localhost:8080/",
          "height": 35
        },
        "id": "eoDdd7KeNu9v",
        "outputId": "ecb56019-74e1-4fce-95b1-241148545f60"
      },
      "source": [
        "shape[0]"
      ],
      "execution_count": 40,
      "outputs": [
        {
          "output_type": "execute_result",
          "data": {
            "application/vnd.google.colaboratory.intrinsic+json": {
              "type": "string"
            },
            "text/plain": [
              "'length'"
            ]
          },
          "metadata": {
            "tags": []
          },
          "execution_count": 40
        }
      ]
    },
    {
      "cell_type": "markdown",
      "metadata": {
        "id": "Ds9wBAmeOSxC"
      },
      "source": [
        "## Sets\n",
        "\n",
        "Mutable, unordered collection of items"
      ]
    },
    {
      "cell_type": "code",
      "metadata": {
        "id": "-P-JaKDqOMou"
      },
      "source": [
        "bikes = ['yamaha', 'yamaha', 'ducati', 'bmw', 'bmw', 'bmw']"
      ],
      "execution_count": 42,
      "outputs": []
    },
    {
      "cell_type": "code",
      "metadata": {
        "id": "WbrUoe5uOvIR"
      },
      "source": [
        "bike_set = set(bikes)"
      ],
      "execution_count": 43,
      "outputs": []
    },
    {
      "cell_type": "code",
      "metadata": {
        "colab": {
          "base_uri": "https://localhost:8080/"
        },
        "id": "PhfPe3MlPCjF",
        "outputId": "c3cf155d-f503-48b1-8efc-d49362c43d5e"
      },
      "source": [
        "bike_set"
      ],
      "execution_count": 44,
      "outputs": [
        {
          "output_type": "execute_result",
          "data": {
            "text/plain": [
              "{'bmw', 'ducati', 'yamaha'}"
            ]
          },
          "metadata": {
            "tags": []
          },
          "execution_count": 44
        }
      ]
    },
    {
      "cell_type": "markdown",
      "metadata": {
        "id": "higL63lGPh7f"
      },
      "source": [
        "## Dictionaries\n",
        "a datatype for mutable unordered objects that store items in a key value pair."
      ]
    },
    {
      "cell_type": "code",
      "metadata": {
        "id": "U6Im6cICPEBQ"
      },
      "source": [
        "my_dictionary = {'apples':20, 'bananas':30, 'oranges': 50}"
      ],
      "execution_count": 45,
      "outputs": []
    },
    {
      "cell_type": "code",
      "metadata": {
        "id": "AeETd4jFQK47"
      },
      "source": [
        "another_dictionary = {'ages':[10,20,30,40], '10':'Mike', 'is_True':False, 'height': {'mike': 1.67, 'harriet':2.05}}"
      ],
      "execution_count": 48,
      "outputs": []
    },
    {
      "cell_type": "code",
      "metadata": {
        "colab": {
          "base_uri": "https://localhost:8080/",
          "height": 35
        },
        "id": "rA15miUvQyhB",
        "outputId": "264662f3-3a6c-4ccf-9c23-3ed18ddfe72f"
      },
      "source": [
        "another_dictionary['10']"
      ],
      "execution_count": 49,
      "outputs": [
        {
          "output_type": "execute_result",
          "data": {
            "application/vnd.google.colaboratory.intrinsic+json": {
              "type": "string"
            },
            "text/plain": [
              "'Mike'"
            ]
          },
          "metadata": {
            "tags": []
          },
          "execution_count": 49
        }
      ]
    },
    {
      "cell_type": "code",
      "metadata": {
        "colab": {
          "base_uri": "https://localhost:8080/"
        },
        "id": "LIwHxjjsTF_g",
        "outputId": "3d8d60ea-f918-44e6-b396-bee6ce533bb2"
      },
      "source": [
        "another_dictionary['ages'][2]"
      ],
      "execution_count": 50,
      "outputs": [
        {
          "output_type": "execute_result",
          "data": {
            "text/plain": [
              "30"
            ]
          },
          "metadata": {
            "tags": []
          },
          "execution_count": 50
        }
      ]
    },
    {
      "cell_type": "code",
      "metadata": {
        "colab": {
          "base_uri": "https://localhost:8080/"
        },
        "id": "mLboReQeTRYL",
        "outputId": "bbb39e0f-2a70-4f55-f28f-e65f6226cf99"
      },
      "source": [
        "another_dictionary['height']['harriet']"
      ],
      "execution_count": 51,
      "outputs": [
        {
          "output_type": "execute_result",
          "data": {
            "text/plain": [
              "2.05"
            ]
          },
          "metadata": {
            "tags": []
          },
          "execution_count": 51
        }
      ]
    },
    {
      "cell_type": "code",
      "metadata": {
        "colab": {
          "base_uri": "https://localhost:8080/"
        },
        "id": "NfE-5CnHTgtB",
        "outputId": "44ebaf07-6a01-4007-99f6-cbc6fdc65fe8"
      },
      "source": [
        "my_dictionary.keys()"
      ],
      "execution_count": 52,
      "outputs": [
        {
          "output_type": "execute_result",
          "data": {
            "text/plain": [
              "dict_keys(['apples', 'bananas', 'oranges'])"
            ]
          },
          "metadata": {
            "tags": []
          },
          "execution_count": 52
        }
      ]
    },
    {
      "cell_type": "code",
      "metadata": {
        "colab": {
          "base_uri": "https://localhost:8080/"
        },
        "id": "5WnD7pcDT58_",
        "outputId": "e208710e-fc9a-46bc-aaee-4ef21ceed168"
      },
      "source": [
        "my_dictionary.values()"
      ],
      "execution_count": 53,
      "outputs": [
        {
          "output_type": "execute_result",
          "data": {
            "text/plain": [
              "dict_values([20, 30, 50])"
            ]
          },
          "metadata": {
            "tags": []
          },
          "execution_count": 53
        }
      ]
    },
    {
      "cell_type": "code",
      "metadata": {
        "colab": {
          "base_uri": "https://localhost:8080/"
        },
        "id": "fl0oiuzdUPRx",
        "outputId": "1d9c3a4c-4a11-4d17-d242-6e875392734b"
      },
      "source": [
        "my_dictionary.items()"
      ],
      "execution_count": 54,
      "outputs": [
        {
          "output_type": "execute_result",
          "data": {
            "text/plain": [
              "dict_items([('apples', 20), ('bananas', 30), ('oranges', 50)])"
            ]
          },
          "metadata": {
            "tags": []
          },
          "execution_count": 54
        }
      ]
    },
    {
      "cell_type": "code",
      "metadata": {
        "id": "3Kj1iSN3UoKQ"
      },
      "source": [
        "to_remove = ['kia', 'lambo', 'lambo', 'lambo', 'lambo', 'lambo']"
      ],
      "execution_count": 55,
      "outputs": []
    },
    {
      "cell_type": "code",
      "metadata": {
        "id": "zQ4ER5v6VrW0"
      },
      "source": [
        ""
      ],
      "execution_count": null,
      "outputs": []
    }
  ]
}